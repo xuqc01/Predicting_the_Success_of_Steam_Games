{
 "cells": [
  {
   "cell_type": "code",
   "execution_count": 15,
   "metadata": {},
   "outputs": [],
   "source": [
    "import pandas as pd\n",
    "import requests\n",
    "import sqlite3\n",
    "import time\n",
    "import numpy as np\n",
    "\n",
    "class StopExecution(Exception):\n",
    "    def _render_traceback_(self):\n",
    "        pass"
   ]
  },
  {
   "cell_type": "markdown",
   "metadata": {},
   "source": [
    "### ID's and Names\n",
    "\n",
    "**Scrapes the unique ids and names of all Steam video games from Steam's API** \n",
    "\n",
    "The API URL is 'https://api.steampowered.com/IStoreService/GetAppList/v1/', where the ids and names are stored in the nested dictionary hierarchy response['response']['apps']. Only a maximum of 50,000 results can be retrieved per response. The API has a parameter called 'last_appid' which will resume data retrieval from the last recorded game (app) id; I replaced appid with game_id or id for a better naming convention. "
   ]
  },
  {
   "cell_type": "code",
   "execution_count": 17,
   "metadata": {},
   "outputs": [
    {
     "data": {
      "text/html": [
       "<div>\n",
       "<style scoped>\n",
       "    .dataframe tbody tr th:only-of-type {\n",
       "        vertical-align: middle;\n",
       "    }\n",
       "\n",
       "    .dataframe tbody tr th {\n",
       "        vertical-align: top;\n",
       "    }\n",
       "\n",
       "    .dataframe thead th {\n",
       "        text-align: right;\n",
       "    }\n",
       "</style>\n",
       "<table border=\"1\" class=\"dataframe\">\n",
       "  <thead>\n",
       "    <tr style=\"text-align: right;\">\n",
       "      <th></th>\n",
       "      <th>id</th>\n",
       "      <th>name</th>\n",
       "      <th>release_date</th>\n",
       "      <th>price</th>\n",
       "    </tr>\n",
       "  </thead>\n",
       "  <tbody>\n",
       "    <tr>\n",
       "      <th>0</th>\n",
       "      <td>10</td>\n",
       "      <td>Counter-Strike</td>\n",
       "      <td>NaN</td>\n",
       "      <td>NaN</td>\n",
       "    </tr>\n",
       "    <tr>\n",
       "      <th>1</th>\n",
       "      <td>20</td>\n",
       "      <td>Team Fortress Classic</td>\n",
       "      <td>NaN</td>\n",
       "      <td>NaN</td>\n",
       "    </tr>\n",
       "    <tr>\n",
       "      <th>2</th>\n",
       "      <td>30</td>\n",
       "      <td>Day of Defeat</td>\n",
       "      <td>NaN</td>\n",
       "      <td>NaN</td>\n",
       "    </tr>\n",
       "    <tr>\n",
       "      <th>3</th>\n",
       "      <td>40</td>\n",
       "      <td>Deathmatch Classic</td>\n",
       "      <td>NaN</td>\n",
       "      <td>NaN</td>\n",
       "    </tr>\n",
       "    <tr>\n",
       "      <th>4</th>\n",
       "      <td>50</td>\n",
       "      <td>Half-Life: Opposing Force</td>\n",
       "      <td>NaN</td>\n",
       "      <td>NaN</td>\n",
       "    </tr>\n",
       "  </tbody>\n",
       "</table>\n",
       "</div>"
      ],
      "text/plain": [
       "   id                       name  release_date  price\n",
       "0  10             Counter-Strike           NaN    NaN\n",
       "1  20      Team Fortress Classic           NaN    NaN\n",
       "2  30              Day of Defeat           NaN    NaN\n",
       "3  40         Deathmatch Classic           NaN    NaN\n",
       "4  50  Half-Life: Opposing Force           NaN    NaN"
      ]
     },
     "execution_count": 17,
     "metadata": {},
     "output_type": "execute_result"
    }
   ],
   "source": [
    "idname_df = pd.DataFrame()\n",
    "last_appid = 0\n",
    "\n",
    "while True:\n",
    "\n",
    "    params = {\n",
    "        'key': '1674C7309B00CA08D73A8CC100CA24C7', \n",
    "        'max_results': '50000', # maximum of 50,000 retrievals per response\n",
    "        'last_appid': last_appid} # will resume data retrieval from this id\n",
    "    gameListUrl = 'https://api.steampowered.com/IStoreService/GetAppList/v1/'\n",
    "    \n",
    "    response = requests.get(gameListUrl, params=params)\n",
    "    response = response.json()\n",
    "\n",
    "    if len(response['response']) == 0:\n",
    "        break\n",
    "    \n",
    "    temp_df = pd.DataFrame(response['response']['apps']) # location of ids and names\n",
    "    idname_df = pd.concat([idname_df, temp_df], ignore_index=True) # adding data to already existing dataframe\n",
    "    last_appid = idname_df['appid'].max()\n",
    "\n",
    "# Renaming appid to id\n",
    "idname_df.rename(columns={'appid': 'id'}, inplace=True)\n",
    "# Dropping unnecessary columns\n",
    "idname_df.drop(columns=['last_modified', 'price_change_number'], inplace=True)\n",
    "# Adding columns for future data insertion\n",
    "idname_df[['release_date', 'price']] = np.nan\n",
    "\n",
    "idname_df.head()"
   ]
  },
  {
   "cell_type": "markdown",
   "metadata": {},
   "source": [
    "**Converts the 'idname_df' dataframe into a table called 'game' in a SQL file called 'steam_db.sqlite' for permanent storage**"
   ]
  },
  {
   "cell_type": "code",
   "execution_count": 18,
   "metadata": {},
   "outputs": [],
   "source": [
    "conn = sqlite3.connect('steam_db.sqlite')\n",
    "\n",
    "with conn:\n",
    "    try:\n",
    "        idname_df.to_sql(name='game', con=conn, index=False)\n",
    "    except:\n",
    "        print(\"Table 'game' already exists\")"
   ]
  },
  {
   "cell_type": "code",
   "execution_count": 26,
   "metadata": {},
   "outputs": [],
   "source": [
    "source_conn = sqlite3.connect(r\"C:\\Users\\xuqc0\\Documents\\XUQC01\\WORK\\Projects\\Steam_Games-Predicting_Success\\steam_db.sqlite\")\n",
    "destination_conn = sqlite3.connect(r\"C:\\Users\\xuqc0\\Documents\\XUQC01\\WORK\\Projects\\Predicting_the_Success_of_Steam_Games\\steam_db.sqlite\")\n",
    "\n",
    "with source_conn, destination_conn:\n",
    "    source_conn_cur = source_conn.cursor()\n",
    "    destination_conn_cur = destination_conn.cursor()\n",
    "\n",
    "    source_conn_cur.execute(\"SELECT * FROM game\")\n",
    "    rows = source_conn_cur.fetchall()\n",
    "    for row in rows:\n",
    "        id = row[0]\n",
    "        name = row[1]\n",
    "        date = row[4]\n",
    "        price = row[5]\n",
    "        data = (id, name, date, price)\n",
    "        destination_conn_cur.execute(\"INSERT INTO game VALUES (?, ?, ?, ?)\", data)\n",
    "    \n",
    "    destination_conn.commit()\n",
    "\n",
    "\n"
   ]
  },
  {
   "cell_type": "code",
   "execution_count": 25,
   "metadata": {},
   "outputs": [],
   "source": [
    "conn = sqlite3.connect('steam_db.sqlite')\n",
    "cur = conn.cursor()\n",
    "\n",
    "cur.execute(\"CREATE TABLE game (id, name, release_date, price)\")\n",
    "\n",
    "conn.commit()"
   ]
  }
 ],
 "metadata": {
  "kernelspec": {
   "display_name": "steam-env",
   "language": "python",
   "name": "python3"
  },
  "language_info": {
   "codemirror_mode": {
    "name": "ipython",
    "version": 3
   },
   "file_extension": ".py",
   "mimetype": "text/x-python",
   "name": "python",
   "nbconvert_exporter": "python",
   "pygments_lexer": "ipython3",
   "version": "3.11.4"
  },
  "orig_nbformat": 4
 },
 "nbformat": 4,
 "nbformat_minor": 2
}
