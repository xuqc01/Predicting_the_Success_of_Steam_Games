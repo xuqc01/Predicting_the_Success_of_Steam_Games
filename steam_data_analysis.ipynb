{
 "cells": [
  {
   "cell_type": "code",
   "execution_count": null,
   "metadata": {},
   "outputs": [],
   "source": [
    "pokemon_url = f\"https://pokeapi.co/api/v2/pokemon/{pokemon_id}\"\n",
    "\n"
   ]
  },
  {
   "cell_type": "code",
   "execution_count": 18,
   "metadata": {},
   "outputs": [
    {
     "name": "stdout",
     "output_type": "stream",
     "text": [
      "<ClientResponse(https://pokeapi.co/api/v2/pokemon/10) [200 OK]>\n",
      "<CIMultiDictProxy('Date': 'Sat, 02 Sep 2023 05:17:11 GMT', 'Content-Type': 'application/json; charset=utf-8', 'Content-Length': '1952', 'Connection': 'keep-alive', 'Access-Control-Allow-Origin': '*', 'Cache-Control': 'public, max-age=86400, s-maxage=86400', 'Content-Encoding': 'gzip', 'Etag': 'W/\"727f-3s8Af+TyePd2XrnRAlCVLzYITvY\"', 'function-execution-id': 'n5o2jhsom381', 'strict-transport-security': 'max-age=31556926', 'x-cloud-trace-context': 'a901be10a8de6aed8197a10746ba491a;o=1', 'x-country-code': 'ZA', 'x-powered-by': 'Express', 'x-served-by': 'cache-jnb7024-JNB', 'x-cache': 'MISS', 'x-cache-hits': '0', 'x-timer': 'S1692748652.920008,VS0,VE590', 'Vary': 'Accept-Encoding,cookie,need-authorization, x-fh-requested-host, accept-encoding', 'alt-svc': 'h3=\":443\"; ma=86400', 'CF-Cache-Status': 'HIT', 'Age': '41029', 'Accept-Ranges': 'bytes', 'Report-To': '{\"endpoints\":[{\"url\":\"https:\\\\/\\\\/a.nel.cloudflare.com\\\\/report\\\\/v3?s=tOp0r6ACJz1%2BXc0Ibwiy4KvqAkBtlTmMratki9zDzzwcHVzsY7sAtf3y%2FgdojR1bXrppi8N4tIiWAlJXjdeVFk1g%2FI2yYQ4q%2BZWSdBAMHt5%2B0IHnTKjjBANCg19P\"}],\"group\":\"cf-nel\",\"max_age\":604800}', 'NEL': '{\"success_fraction\":0,\"report_to\":\"cf-nel\",\"max_age\":604800}', 'Server': 'cloudflare', 'CF-RAY': '800348ffd83b8c59-EWR')>\n",
      "\n"
     ]
    },
    {
     "name": "stderr",
     "output_type": "stream",
     "text": [
      "c:\\Users\\xuqc0\\anaconda3\\envs\\learn-env\\lib\\concurrent\\futures\\thread.py:185: RuntimeWarning: coroutine 'ClientResponse.json' was never awaited\n",
      "  w = _WorkItem(f, fn, args, kwargs)\n",
      "RuntimeWarning: Enable tracemalloc to get the object allocation traceback\n",
      "c:\\Users\\xuqc0\\anaconda3\\envs\\learn-env\\lib\\concurrent\\futures\\thread.py:185: RuntimeWarning: coroutine 'ClientSession._request' was never awaited\n",
      "  w = _WorkItem(f, fn, args, kwargs)\n",
      "RuntimeWarning: Enable tracemalloc to get the object allocation traceback\n"
     ]
    }
   ],
   "source": [
    "import asyncio\n",
    "import aiosqlite\n",
    "import aiohttp\n",
    "\n",
    "async def get_pokemon_name(pokemon_id: int) -> str:\n",
    "    async with aiohttp.ClientSession() as session:\n",
    "        pokemon_url = f\"https://pokeapi.co/api/v2/pokemon/{pokemon_id}\"\n",
    "        pokemon = await session.get(pokemon_url)\n",
    "        # pokemon = pokemon.json()\n",
    "        print(pokemon)\n",
    "    \n",
    "\n",
    "await get_pokemon_name(10)\n",
    "\n",
    "# async def get_all_pokemon_name(pokemon_ids: list) -> dict:\n",
    "\n",
    "#     tasks = []\n",
    "#     for pokemon_id in pokemon_ids:\n",
    "#         task = asyncio.create_task(get_pokemon_name(pokemon_id))\n",
    "#         tasks.append(task)\n",
    "    \n",
    "#     pokeid_name = await asyncio.gather(*tasks)\n",
    "#     print(pokeid_name)\n",
    "\n",
    "# async def main():\n",
    "#     pokemon_ids = [pokemon_id for pokemon_id in range(100)]\n",
    "#     await get_all_pokemon_name(pokemon_ids)\n",
    "\n",
    "# await main()"
   ]
  },
  {
   "cell_type": "code",
   "execution_count": 22,
   "metadata": {},
   "outputs": [
    {
     "name": "stdout",
     "output_type": "stream",
     "text": [
      "Background task is complete\n",
      "Main code continues running concurrently\n"
     ]
    }
   ],
   "source": [
    "import asyncio\n",
    "\n",
    "async def background_task():\n",
    "    await asyncio.sleep(2)\n",
    "    print(\"Background task is complete\")\n",
    "\n",
    "async def main():\n",
    "    task = await background_task()  # Create a coroutine object\n",
    "    print(\"Main code continues running concurrently\")\n",
    "    # await task  # Wait for the background task to complete \n",
    "\n",
    "await main()"
   ]
  }
 ],
 "metadata": {
  "kernelspec": {
   "display_name": "Python (learn-env)",
   "language": "python",
   "name": "leanr-env"
  },
  "language_info": {
   "codemirror_mode": {
    "name": "ipython",
    "version": 3
   },
   "file_extension": ".py",
   "mimetype": "text/x-python",
   "name": "python",
   "nbconvert_exporter": "python",
   "pygments_lexer": "ipython3",
   "version": "3.8.5"
  },
  "orig_nbformat": 4
 },
 "nbformat": 4,
 "nbformat_minor": 2
}
